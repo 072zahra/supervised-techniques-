{
 "cells": [
  {
   "cell_type": "code",
   "execution_count": 11,
   "id": "77f7e002-7fcf-4cf1-88c2-6d50589d4187",
   "metadata": {},
   "outputs": [
    {
     "name": "stderr",
     "output_type": "stream",
     "text": [
      "C:\\Users\\dell\\AppData\\Local\\Temp\\ipykernel_19920\\2794245326.py:7: FutureWarning: The 'delim_whitespace' keyword in pd.read_csv is deprecated and will be removed in a future version. Use ``sep='\\s+'`` instead\n",
      "  steel_df = pd.read_csv('Faults.NNA', delim_whitespace=True)\n"
     ]
    },
    {
     "name": "stdout",
     "output_type": "stream",
     "text": [
      "              precision    recall  f1-score   support\n",
      "\n",
      "         0.1       0.15      0.12      0.13        41\n",
      "         0.2       0.84      0.80      0.81        83\n",
      "         0.3       0.00      0.00      0.00        13\n",
      "         0.4       0.62      0.62      0.62         8\n",
      "         0.5       0.29      0.43      0.35        69\n",
      "         0.6       0.53      0.49      0.51       145\n",
      "         1.3       0.13      0.07      0.09        29\n",
      "\n",
      "    accuracy                           0.46       388\n",
      "   macro avg       0.37      0.36      0.36       388\n",
      "weighted avg       0.47      0.46      0.46       388\n",
      "\n"
     ]
    }
   ],
   "source": [
    "from sklearn.model_selection import train_test_split\n",
    "from sklearn.neighbors import KNeighborsClassifier\n",
    "from sklearn.metrics import classification_report\n",
    "import pandas as pd\n",
    "\n",
    "# Load data\n",
    "steel_df = pd.read_csv('Faults.NNA', delim_whitespace=True)\n",
    "X = steel_df.iloc[:, :27]\n",
    "Y_raw = steel_df.iloc[:, 27:]\n",
    "y = Y_raw.idxmax(axis=1).astype(str)\n",
    "\n",
    "# Train/test split\n",
    "X_train, X_test, y_train, y_test = train_test_split(X, y, test_size=0.2, random_state=42)\n",
    "\n",
    "# Model training with K-Nearest Neighbors Classifier\n",
    "clf = KNeighborsClassifier(n_neighbors=5)\n",
    "clf.fit(X_train, y_train)\n",
    "\n",
    "# Evaluation\n",
    "y_pred = clf.predict(X_test)\n",
    "print(classification_report(y_test, y_pred))"
   ]
  },
  {
   "cell_type": "code",
   "execution_count": 17,
   "id": "a1e612d2-74e7-4d80-9201-e23620f03193",
   "metadata": {},
   "outputs": [
    {
     "name": "stdout",
     "output_type": "stream",
     "text": [
      "[4 6 4 ... 1 6 5]\n"
     ]
    }
   ],
   "source": [
    "from sklearn.semi_supervised import LabelSpreading\n",
    "import numpy as np\n",
    "\n",
    "# Mask 90% of labels\n",
    "n_total = len(y)\n",
    "n_labeled = int(0.1 * n_total)\n",
    "label_indices = np.random.choice(n_total, n_labeled, replace=False)\n",
    "y_semi = np.full(n_total, -1, dtype=object)\n",
    "y_semi[label_indices] = y.iloc[label_indices].values\n",
    "\n",
    "# Label encoding\n",
    "from sklearn.preprocessing import LabelEncoder\n",
    "le = LabelEncoder()\n",
    "y_encoded = le.fit_transform(y)\n",
    "y_semi_encoded = np.full(n_total, -1)\n",
    "y_semi_encoded[label_indices] = y_encoded[label_indices]\n",
    "\n",
    "# Fit Label Spreading\n",
    "model = LabelSpreading(kernel='knn')\n",
    "model.fit(X, y_semi_encoded)\n",
    "\n",
    "# Predict\n",
    "y_pred_semi = model.transduction_\n",
    "print(y_pred_semi)"
   ]
  },
  {
   "cell_type": "code",
   "execution_count": null,
   "id": "e1d75482-c45d-4186-a223-0f99cdf551bf",
   "metadata": {},
   "outputs": [],
   "source": []
  }
 ],
 "metadata": {
  "kernelspec": {
   "display_name": "Python [conda env:base] *",
   "language": "python",
   "name": "conda-base-py"
  },
  "language_info": {
   "codemirror_mode": {
    "name": "ipython",
    "version": 3
   },
   "file_extension": ".py",
   "mimetype": "text/x-python",
   "name": "python",
   "nbconvert_exporter": "python",
   "pygments_lexer": "ipython3",
   "version": "3.12.7"
  }
 },
 "nbformat": 4,
 "nbformat_minor": 5
}
